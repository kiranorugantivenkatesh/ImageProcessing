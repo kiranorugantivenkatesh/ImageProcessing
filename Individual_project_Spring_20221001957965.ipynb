{
 "cells": [
  {
   "cell_type": "markdown",
   "metadata": {
    "id": "Kqx7khJuqxq6"
   },
   "source": [
    "<h1 align='center' style=\"color: blue;\">Individual Project - Spring 2022</h1>"
   ]
  },
  {
   "cell_type": "markdown",
   "metadata": {
    "id": "aKY2I-Rmqxq8"
   },
   "source": [
    "In order to load the dataset you need to have `tensorflow V2` on your computer. Use the following code to install the package"
   ]
  },
  {
   "cell_type": "code",
   "execution_count": null,
   "metadata": {
    "id": "pKi8m8rEqxq8"
   },
   "outputs": [],
   "source": [
    "# !pip install --upgrade tensorflow"
   ]
  },
  {
   "cell_type": "markdown",
   "metadata": {
    "id": "VHilf2DPqxq9"
   },
   "source": [
    "You can also check the version of it using the following code."
   ]
  },
  {
   "cell_type": "code",
   "execution_count": 43,
   "metadata": {
    "colab": {
     "base_uri": "https://localhost:8080/",
     "height": 37
    },
    "id": "wVkonAkPqxq9",
    "outputId": "9d45a0a4-ac8e-42d1-ce61-7af10546459c"
   },
   "outputs": [
    {
     "data": {
      "application/vnd.google.colaboratory.intrinsic+json": {
       "type": "string"
      },
      "text/plain": [
       "'2.8.0'"
      ]
     },
     "execution_count": 43,
     "metadata": {},
     "output_type": "execute_result"
    }
   ],
   "source": [
    "import tensorflow as tf\n",
    "tf.__version__"
   ]
  },
  {
   "cell_type": "markdown",
   "metadata": {
    "id": "tY5SNGirqxq-"
   },
   "source": [
    "Now, it's time to load the dataset"
   ]
  },
  {
   "cell_type": "code",
   "execution_count": 44,
   "metadata": {
    "id": "6cSkzTs9qxq-"
   },
   "outputs": [],
   "source": [
    "from tensorflow import keras\n",
    "fashion_mnist = keras.datasets.fashion_mnist\n",
    "(X_train, y_train), (X_test, y_test) = fashion_mnist.load_data()"
   ]
  },
  {
   "cell_type": "markdown",
   "metadata": {
    "id": "Da7Yq5tqqxq_"
   },
   "source": [
    "As can be seen from the above code, the dataset was divided into train and test sets. Let's take a look at the X_train"
   ]
  },
  {
   "cell_type": "code",
   "execution_count": 45,
   "metadata": {
    "colab": {
     "base_uri": "https://localhost:8080/"
    },
    "id": "sHaZNOcfqxq_",
    "outputId": "139e4d33-4dd1-4ec5-a82a-3d8de41eb42f"
   },
   "outputs": [
    {
     "data": {
      "text/plain": [
       "(60000, 28, 28)"
      ]
     },
     "execution_count": 45,
     "metadata": {},
     "output_type": "execute_result"
    }
   ],
   "source": [
    "X_train.shape"
   ]
  },
  {
   "cell_type": "markdown",
   "metadata": {
    "id": "lIQ6HeJxqxrA"
   },
   "source": [
    "As it is clear, the train dataset (`X_train`) contains 60,000 images of size 28 x 28. We can visualize one of the images using the following code:"
   ]
  },
  {
   "cell_type": "code",
   "execution_count": 46,
   "metadata": {
    "colab": {
     "base_uri": "https://localhost:8080/",
     "height": 248
    },
    "id": "QYt3eLpvqxrA",
    "outputId": "864ef151-54be-4c8a-a5c9-15474b33968d"
   },
   "outputs": [
    {
     "data": {
      "image/png": "[encoded data removed]",
      "text/plain": [
       "<Figure size 432x288 with 1 Axes>"
      ]
     },
     "metadata": {
      "needs_background": "light"
     },
     "output_type": "display_data"
    }
   ],
   "source": [
    "import matplotlib as mpl\n",
    "import matplotlib.pyplot as plt\n",
    "%matplotlib inline\n",
    "\n",
    "sample_image = X_train[10]\n",
    "plt.imshow(sample_image, cmap='binary')\n",
    "plt.axis('off')\n",
    "plt.show()"
   ]
  },
  {
   "cell_type": "markdown",
   "metadata": {
    "id": "AXcadwW6qxrB"
   },
   "source": [
    "The `y_train` also includes values between 0 and 9. Each represents a particular category. For example, we can check the value of `y_train` for the above image."
   ]
  },
  {
   "cell_type": "code",
   "execution_count": 47,
   "metadata": {
    "colab": {
     "base_uri": "https://localhost:8080/"
    },
    "id": "fiDTK9AXqxrB",
    "outputId": "721ab9fa-eea0-4701-97e0-3f28241bf8b9"
   },
   "outputs": [
    {
     "data": {
      "text/plain": [
       "0"
      ]
     },
     "execution_count": 47,
     "metadata": {},
     "output_type": "execute_result"
    }
   ],
   "source": [
    "y_train[10]"
   ]
  },
  {
   "cell_type": "markdown",
   "metadata": {
    "id": "nxaZAyzxqxrC"
   },
   "source": [
    "The above code shows that the image belongs to category 0. To get the associated label with each category, you can use the following code:"
   ]
  },
  {
   "cell_type": "code",
   "execution_count": 48,
   "metadata": {
    "colab": {
     "base_uri": "https://localhost:8080/"
    },
    "id": "jMK2Os7cqxrC",
    "outputId": "7efa4a03-8ab7-4305-a770-c8ad4700b8b1"
   },
   "outputs": [
    {
     "name": "stdout",
     "output_type": "stream",
     "text": [
      "T-shirt/top\n"
     ]
    }
   ],
   "source": [
    "class_names = ['T-shirt/top','Trouser','Pullover','Dress','Coat','Sandal','Shirt','Sneaker','Bag','Ankle boot']\n",
    "print(class_names[y_train[10]])"
   ]
  },
  {
   "cell_type": "markdown",
   "metadata": {
    "id": "bBu6nBNvqxrD"
   },
   "source": [
    "Now, it's your turn,"
   ]
  },
  {
   "cell_type": "markdown",
   "metadata": {
    "id": "YLPAoWDJqxrD"
   },
   "source": [
    "<ul>\n",
    "    <li><b>Task1:</b> Use the train set to train various supervised models and evaluate their performance using the test set.</li>\n",
    "    <ul>\n",
    "        <li>Use different supervised learning models.</li>\n",
    "        <li>Use different metrics such as <b>accutacy</b>, <b>precision</b>, <b>AUC</b>, and ... in your model evaluation. </li>\n",
    "        <li>It is not enough to report the metrics. It is crucial that you interpret the metrics for each model and compare them across different models.</li>\n",
    "        <li> You may need to use the cross validation methods for hyperparameter selection.</li>\n",
    "        <li> Specify the model that outperforms the other models.</b>\n",
    "    </ul>\n",
    "    <li><b>Task2:</b> Use the best model to predict your own fashion pieces.</li>\n",
    "    <ul>\n",
    "        <li>Take a picture of five fashion pieces of your own (take pictures in square format).</li>\n",
    "        <li>Resize images to the correct size (28,28).</li>\n",
    "        <li>Grayscale your images.</li>\n",
    "        <li>Visualize all the images side by side</li>\n",
    "        <li>Use the best model in Task 1 to predict the label of each of your own images.</li>\n",
    "        <li>How accurate is the final result?</li>\n",
    "    </ul>\n",
    "</ul>"
   ]
  },
  {
   "cell_type": "markdown",
   "metadata": {
    "id": "xif1z_iPqxrE"
   },
   "source": [
    "### Output"
   ]
  },
  {
   "cell_type": "markdown",
   "metadata": {
    "id": "WAh43ryAqxrE"
   },
   "source": [
    "<ul>\n",
    "    <li>Make sure to put descriptive comments on your code</li>\n",
    "    <li>Use the markdown cell format in Jupiter to add your own interpretation to the result in each section.</li>\n",
    "    <li>Make sure to keep the output of your runs when you want to save the final version of the file.</li>\n",
    "    <li>The final work should be very well structured and should have a consistent flow of analysis.</li>\n",
    "</ul>"
   ]
  },
  {
   "cell_type": "markdown",
   "metadata": {
    "id": "tyaaOxI_seVf"
   },
   "source": [
    "#Task1"
   ]
  },
  {
   "cell_type": "markdown",
   "metadata": {
    "id": "Kq2PyX8JsoUq"
   },
   "source": [
    "We will be using models from the previous assignments and some models discussed in calss to train on the data and compare them based on accuracy metrics.\n",
    "Models being compared:\n",
    "\n",
    "\n",
    "1.   Logistic Rgression\n",
    "2.   Random Forest classifier(decision tree ensemble)\n",
    "3.   MLPclassifier (Neural network based classifier)\n",
    "\n"
   ]
  },
  {
   "cell_type": "code",
   "execution_count": 49,
   "metadata": {
    "id": "XSTBBXyWsgGT"
   },
   "outputs": [],
   "source": [
    "X_train=X_train.reshape(60000,784)\n",
    "X_test=X_test.reshape(10000,784)"
   ]
  },
  {
   "cell_type": "markdown",
   "metadata": {
    "id": "NPGJRo2guHzF"
   },
   "source": [
    "1. Logistic regression"
   ]
  },
  {
   "cell_type": "code",
   "execution_count": 50,
   "metadata": {
    "colab": {
     "base_uri": "https://localhost:8080/"
    },
    "id": "RjVqZBqBtsCQ",
    "outputId": "42d2477e-d620-40f0-b37b-e707c883acfc"
   },
   "outputs": [
    {
     "name": "stderr",
     "output_type": "stream",
     "text": [
      "/usr/local/lib/python3.7/dist-packages/sklearn/linear_model/_logistic.py:818: ConvergenceWarning: lbfgs failed to converge (status=1):\n",
      "STOP: TOTAL NO. of ITERATIONS REACHED LIMIT.\n",
      "\n",
      "Increase the number of iterations (max_iter) or scale the data as shown in:\n",
      "    https://scikit-learn.org/stable/modules/preprocessing.html\n",
      "Please also refer to the documentation for alternative solver options:\n",
      "    https://scikit-learn.org/stable/modules/linear_model.html#logistic-regression\n",
      "  extra_warning_msg=_LOGISTIC_SOLVER_CONVERGENCE_MSG,\n"
     ]
    },
    {
     "data": {
      "text/plain": [
       "LogisticRegression()"
      ]
     },
     "execution_count": 50,
     "metadata": {},
     "output_type": "execute_result"
    }
   ],
   "source": [
    "from sklearn.linear_model import LogisticRegression\n",
    "model_logistic = LogisticRegression(solver='lbfgs')\n",
    "model_logistic.fit(X_train, y_train)"
   ]
  },
  {
   "cell_type": "code",
   "execution_count": 51,
   "metadata": {
    "id": "63bQ0hnfuROP"
   },
   "outputs": [],
   "source": [
    "y_train_pred = model_logistic.predict(X_train)\n",
    "y_test_pred = model_logistic.predict(X_test)"
   ]
  },
  {
   "cell_type": "code",
   "execution_count": 52,
   "metadata": {
    "colab": {
     "base_uri": "https://localhost:8080/"
    },
    "id": "EDL_RekQuiOG",
    "outputId": "8b3eeda5-c047-4e19-8f49-93fddc572e82"
   },
   "outputs": [
    {
     "data": {
      "text/plain": [
       "(10000, 784)"
      ]
     },
     "execution_count": 52,
     "metadata": {},
     "output_type": "execute_result"
    }
   ],
   "source": [
    "X_test.shape"
   ]
  },
  {
   "cell_type": "code",
   "execution_count": 53,
   "metadata": {
    "colab": {
     "base_uri": "https://localhost:8080/"
    },
    "id": "D-tHAfKQumZj",
    "outputId": "1c9fbe7f-42dd-43be-9046-a18ad09ba753"
   },
   "outputs": [
    {
     "name": "stdout",
     "output_type": "stream",
     "text": [
      "In-sample Accuracy:  86.32\n",
      "Out-of-sample Accuracy:  84.11999999999999\n"
     ]
    }
   ],
   "source": [
    "from sklearn.metrics import accuracy_score,classification_report,confusion_matrix\n",
    "in_sample_acc = accuracy_score(y_train,y_train_pred, normalize = True) * 100\n",
    "out_of_sample_acc = accuracy_score(y_test,y_test_pred, normalize = True) * 100\n",
    "print(\"In-sample Accuracy: \", in_sample_acc)\n",
    "print(\"Out-of-sample Accuracy: \", out_of_sample_acc)"
   ]
  },
  {
   "cell_type": "markdown",
   "metadata": {
    "id": "k0XkcAM6ELbh"
   },
   "source": [
    "Confusion matrix to get better idea on how the model is performing over different classes"
   ]
  },
  {
   "cell_type": "code",
   "execution_count": 56,
   "metadata": {
    "colab": {
     "base_uri": "https://localhost:8080/"
    },
    "id": "BdUO12bs_s3V",
    "outputId": "288d5831-34b9-496b-a787-e5b9a90a616a"
   },
   "outputs": [
    {
     "data": {
      "text/plain": [
       "array([[812,   5,  16,  46,   9,   0,  98,   0,  14,   0],\n",
       "       [  2, 960,   1,  27,   4,   0,   4,   0,   2,   0],\n",
       "       [ 18,   6, 737,  11, 140,   1,  78,   0,   9,   0],\n",
       "       [ 25,  15,  15, 858,  44,   1,  37,   0,   5,   0],\n",
       "       [  0,   3, 106,  33, 779,   1,  70,   0,   8,   0],\n",
       "       [  1,   1,   0,   0,   0, 891,   0,  56,   9,  42],\n",
       "       [139,   3, 129,  42, 114,   0, 550,   0,  23,   0],\n",
       "       [  0,   0,   0,   0,   0,  36,   0, 933,   0,  31],\n",
       "       [  3,   1,   7,  10,   2,   3,  21,   5, 947,   1],\n",
       "       [  0,   0,   0,   0,   0,  13,   0,  39,   3, 945]])"
      ]
     },
     "execution_count": 56,
     "metadata": {},
     "output_type": "execute_result"
    }
   ],
   "source": [
    "cf_matrix = confusion_matrix(y_test,y_test_pred)\n",
    "cf_matrix"
   ]
  },
  {
   "cell_type": "code",
   "execution_count": 57,
   "metadata": {
    "colab": {
     "base_uri": "https://localhost:8080/",
     "height": 122
    },
    "id": "SBRKZDoausfR",
    "outputId": "2f176110-6ed4-49b7-e969-a40eee822570"
   },
   "outputs": [
    {
     "data": {
      "application/vnd.google.colaboratory.intrinsic+json": {
       "type": "string"
      },
      "text/plain": [
       "'              precision    recall  f1-score   support\\n\\n           0       0.81      0.81      0.81      1000\\n           1       0.97      0.96      0.96      1000\\n           2       0.73      0.74      0.73      1000\\n           3       0.84      0.86      0.85      1000\\n           4       0.71      0.78      0.74      1000\\n           5       0.94      0.89      0.92      1000\\n           6       0.64      0.55      0.59      1000\\n           7       0.90      0.93      0.92      1000\\n           8       0.93      0.95      0.94      1000\\n           9       0.93      0.94      0.94      1000\\n\\n    accuracy                           0.84     10000\\n   macro avg       0.84      0.84      0.84     10000\\nweighted avg       0.84      0.84      0.84     10000\\n'"
      ]
     },
     "execution_count": 57,
     "metadata": {},
     "output_type": "execute_result"
    }
   ],
   "source": [
    "classification_report(y_test,y_test_pred)"
   ]
  },
  {
   "cell_type": "markdown",
   "metadata": {
    "id": "VILTzjR0u9BY"
   },
   "source": [
    "2. RandomForest Classifier"
   ]
  },
  {
   "cell_type": "markdown",
   "metadata": {
    "id": "oHr1cxZhvFBL"
   },
   "source": [
    "A random forest is a meta estimator that fits a number of decision tree classifiers on various sub-samples of the dataset and uses averaging to improve the predictive accuracy and control over-fitting. We choose this instead a single decision tree because ensemble methods generally work better."
   ]
  },
  {
   "cell_type": "code",
   "execution_count": 15,
   "metadata": {
    "colab": {
     "base_uri": "https://localhost:8080/"
    },
    "id": "UBHHapcqvBa2",
    "outputId": "ad8cdc44-fca2-4fe3-8d4f-6d3e6eec1f2e"
   },
   "outputs": [
    {
     "data": {
      "text/plain": [
       "RandomForestClassifier()"
      ]
     },
     "execution_count": 15,
     "metadata": {},
     "output_type": "execute_result"
    }
   ],
   "source": [
    "from sklearn.ensemble import RandomForestClassifier\n",
    "model_RFC = RandomForestClassifier()\n",
    "model_RFC.fit(X_train, y_train)"
   ]
  },
  {
   "cell_type": "code",
   "execution_count": 16,
   "metadata": {
    "id": "ISquoIy5uzCs"
   },
   "outputs": [],
   "source": [
    "y_train_pred = model_RFC.predict(X_train)\n",
    "y_test_pred = model_RFC.predict(X_test)"
   ]
  },
  {
   "cell_type": "code",
   "execution_count": 19,
   "metadata": {
    "colab": {
     "base_uri": "https://localhost:8080/"
    },
    "id": "ZIsYoupKxROA",
    "outputId": "f75593af-8a95-48c2-dd93-42a559fe1f7c"
   },
   "outputs": [
    {
     "name": "stdout",
     "output_type": "stream",
     "text": [
      "In-sample Accuracy:  100.0\n",
      "Out-of-sample Accuracy:  87.48\n"
     ]
    }
   ],
   "source": [
    "in_sample_acc = accuracy_score(y_train,y_train_pred, normalize = True) * 100\n",
    "out_of_sample_acc = accuracy_score(y_test,y_test_pred, normalize = True) * 100\n",
    "print(\"In-sample Accuracy: \", in_sample_acc)\n",
    "print(\"Out-of-sample Accuracy: \", out_of_sample_acc)"
   ]
  },
  {
   "cell_type": "code",
   "execution_count": null,
   "metadata": {
    "id": "vUZeq-Y0BtVL"
   },
   "outputs": [],
   "source": [
    "cf_matrix = confusion_matrix(y_test,y_test_pred)\n",
    "cf_matrix"
   ]
  },
  {
   "cell_type": "code",
   "execution_count": 17,
   "metadata": {
    "colab": {
     "base_uri": "https://localhost:8080/",
     "height": 122
    },
    "id": "unMcm2Wovj8x",
    "outputId": "fbb48524-2cc1-46db-abfe-f306af4376ad"
   },
   "outputs": [
    {
     "data": {
      "application/vnd.google.colaboratory.intrinsic+json": {
       "type": "string"
      },
      "text/plain": [
       "'              precision    recall  f1-score   support\\n\\n           0       0.81      0.85      0.83      1000\\n           1       0.99      0.96      0.98      1000\\n           2       0.77      0.80      0.79      1000\\n           3       0.87      0.90      0.89      1000\\n           4       0.76      0.81      0.79      1000\\n           5       0.98      0.96      0.97      1000\\n           6       0.72      0.58      0.65      1000\\n           7       0.92      0.95      0.94      1000\\n           8       0.95      0.97      0.96      1000\\n           9       0.95      0.95      0.95      1000\\n\\n    accuracy                           0.87     10000\\n   macro avg       0.87      0.87      0.87     10000\\nweighted avg       0.87      0.87      0.87     10000\\n'"
      ]
     },
     "execution_count": 17,
     "metadata": {},
     "output_type": "execute_result"
    }
   ],
   "source": [
    "classification_report(y_test,y_test_pred)"
   ]
  },
  {
   "cell_type": "markdown",
   "metadata": {
    "id": "mrLtxjPfvxU0"
   },
   "source": [
    "3. ANN(Artificial Neural Networks)"
   ]
  },
  {
   "cell_type": "markdown",
   "metadata": {
    "id": "Txwbovn0v21C"
   },
   "source": [
    "Perceptron based model with 10 layers and 50 perceptrons in each layer. Not too complex as we have a small dataset. Here we use adam optimizer which performs well generally compared to ‘lbfgs’, ‘sgd’"
   ]
  },
  {
   "cell_type": "code",
   "execution_count": 18,
   "metadata": {
    "colab": {
     "base_uri": "https://localhost:8080/"
    },
    "id": "dR6a6jSkvplZ",
    "outputId": "14673938-25af-44b3-d690-72c6b543f75a"
   },
   "outputs": [
    {
     "data": {
      "text/plain": [
       "MLPClassifier(hidden_layer_sizes=[50, 10], random_state=0)"
      ]
     },
     "execution_count": 18,
     "metadata": {},
     "output_type": "execute_result"
    }
   ],
   "source": [
    "from sklearn.neural_network import MLPClassifier\n",
    "model_nn = MLPClassifier(solver='adam',random_state=0, \n",
    "                      hidden_layer_sizes=[50,10])\n",
    "model_nn.fit(X_train,y_train)"
   ]
  },
  {
   "cell_type": "code",
   "execution_count": 20,
   "metadata": {
    "id": "O2PnCg0wv9bS"
   },
   "outputs": [],
   "source": [
    "y_train_pred = model_nn.predict(X_train)\n",
    "y_test_pred = model_nn.predict(X_test)"
   ]
  },
  {
   "cell_type": "code",
   "execution_count": 21,
   "metadata": {
    "colab": {
     "base_uri": "https://localhost:8080/"
    },
    "id": "sNybFcv2y38L",
    "outputId": "701a9ea0-273d-40f8-dc2f-21cc8c46d979"
   },
   "outputs": [
    {
     "name": "stdout",
     "output_type": "stream",
     "text": [
      "In-sample Accuracy:  92.66166666666666\n",
      "Out-of-sample Accuracy:  86.22999999999999\n"
     ]
    }
   ],
   "source": [
    "in_sample_acc = accuracy_score(y_train,y_train_pred, normalize = True) * 100\n",
    "out_of_sample_acc = accuracy_score(y_test,y_test_pred, normalize = True) * 100\n",
    "print(\"In-sample Accuracy: \", in_sample_acc)\n",
    "print(\"Out-of-sample Accuracy: \", out_of_sample_acc)"
   ]
  },
  {
   "cell_type": "code",
   "execution_count": null,
   "metadata": {
    "id": "gWN9FDjbBu8B"
   },
   "outputs": [],
   "source": [
    "cf_matrix = confusion_matrix(y_test,y_test_pred)\n",
    "cf_matrix"
   ]
  },
  {
   "cell_type": "code",
   "execution_count": 22,
   "metadata": {
    "colab": {
     "base_uri": "https://localhost:8080/",
     "height": 122
    },
    "id": "pVN_dijny-B3",
    "outputId": "eaaca3d4-ab4a-4e76-f3c3-886e2668112c"
   },
   "outputs": [
    {
     "data": {
      "application/vnd.google.colaboratory.intrinsic+json": {
       "type": "string"
      },
      "text/plain": [
       "'              precision    recall  f1-score   support\\n\\n           0       0.82      0.80      0.81      1000\\n           1       0.97      0.96      0.97      1000\\n           2       0.71      0.83      0.76      1000\\n           3       0.82      0.89      0.85      1000\\n           4       0.83      0.72      0.77      1000\\n           5       0.97      0.95      0.96      1000\\n           6       0.68      0.61      0.64      1000\\n           7       0.94      0.95      0.94      1000\\n           8       0.96      0.95      0.96      1000\\n           9       0.94      0.96      0.95      1000\\n\\n    accuracy                           0.86     10000\\n   macro avg       0.86      0.86      0.86     10000\\nweighted avg       0.86      0.86      0.86     10000\\n'"
      ]
     },
     "execution_count": 22,
     "metadata": {},
     "output_type": "execute_result"
    }
   ],
   "source": [
    "classification_report(y_test,y_test_pred)"
   ]
  },
  {
   "cell_type": "markdown",
   "metadata": {
    "id": "IvnMRtxczMWR"
   },
   "source": [
    "Random forest classfier performs better out of the three based on accuracy. But the accuracies of ANN and RFC are really close."
   ]
  },
  {
   "cell_type": "markdown",
   "metadata": {
    "id": "4_PB2318GFPD"
   },
   "source": [
    "#TASK 2"
   ]
  },
  {
   "cell_type": "code",
   "execution_count": 58,
   "metadata": {
    "colab": {
     "base_uri": "https://localhost:8080/",
     "height": 284
    },
    "id": "oqJjD-6bzG9k",
    "outputId": "b651163c-2407-426d-bc27-2d523d51ef59"
   },
   "outputs": [
    {
     "data": {
      "text/plain": [
       "<matplotlib.image.AxesImage at 0x7fb90de93690>"
      ]
     },
     "execution_count": 58,
     "metadata": {},
     "output_type": "execute_result"
    },
    {
     "data": {
      "image/png": "[encoded data removed]",
      "text/plain": [
       "<Figure size 432x288 with 6 Axes>"
      ]
     },
     "metadata": {
      "needs_background": "light"
     },
     "output_type": "display_data"
    }
   ],
   "source": [
    "import matplotlib.image as image\n",
    "import matplotlib.pyplot as plt\n",
    "import cv2\n",
    "image_files=[\"tshirt.jpeg\",\"dress.jpeg\",\"bag.jpeg\",\"sandals.jpeg\",\"ankleboot.jpeg\"]\n",
    "#setting labels\n",
    "y_test=[0,3,8,5,9]\n",
    "images=[]\n",
    "for i in range(len(image_files)):\n",
    "  image=plt.imread(image_files[i])\n",
    "  x=cv2.resize(image, (28, 28)) \n",
    "  grayscale = cv2.cvtColor(x, cv2.COLOR_BGR2GRAY)\n",
    "  images.append(grayscale)\n",
    "  \n",
    "fig, ax = plt.subplots(2,3)\n",
    "\n",
    "ax[0,0].imshow(images[0].reshape(28,28), cmap = 'jet')\n",
    "ax[0,1].imshow(images[1].reshape(28,28), cmap = 'jet')\n",
    "ax[0,2].imshow(images[2].reshape(28,28), cmap = 'jet')\n",
    "ax[1,0].imshow(images[3].reshape(28,28), cmap = 'jet')\n",
    "ax[1,1].imshow(images[4].reshape(28,28), cmap = 'jet')"
   ]
  },
  {
   "cell_type": "code",
   "execution_count": 61,
   "metadata": {
    "id": "jtLTHD_pzkkG"
   },
   "outputs": [],
   "source": [
    "# modifying the input data to fit the requirements of the model\n",
    "import numpy as np\n",
    "test_data=[]\n",
    "for i in range(len(image_files)):\n",
    "  test_data.append(images[i].reshape(784))\n",
    "test_data=np.array(test_data)"
   ]
  },
  {
   "cell_type": "code",
   "execution_count": 59,
   "metadata": {
    "colab": {
     "base_uri": "https://localhost:8080/"
    },
    "id": "sYf1snZa0j2F",
    "outputId": "4da6f80c-188e-4200-ffb8-23e63030cd4b"
   },
   "outputs": [
    {
     "data": {
      "text/plain": [
       "array([6, 6, 8, 8, 6], dtype=uint8)"
      ]
     },
     "execution_count": 59,
     "metadata": {},
     "output_type": "execute_result"
    }
   ],
   "source": [
    "#getting predictions on the test daat using the best model(RFC)\n",
    "y_pred=model_RFC.predict(test_data)\n",
    "y_pred"
   ]
  },
  {
   "cell_type": "code",
   "execution_count": 35,
   "metadata": {
    "colab": {
     "base_uri": "https://localhost:8080/"
    },
    "id": "BDDbwl-L1iPx",
    "outputId": "f42bfe65-2138-46d9-d03f-64d777f0f4bf"
   },
   "outputs": [
    {
     "data": {
      "text/plain": [
       "[0, 3, 8, 5, 9]"
      ]
     },
     "execution_count": 35,
     "metadata": {},
     "output_type": "execute_result"
    }
   ],
   "source": [
    "y_test"
   ]
  },
  {
   "cell_type": "code",
   "execution_count": 60,
   "metadata": {
    "colab": {
     "base_uri": "https://localhost:8080/"
    },
    "id": "9Q4vINzb2CRm",
    "outputId": "de41f065-b6a4-4c41-ed7f-b69478d85f23"
   },
   "outputs": [
    {
     "data": {
      "text/plain": [
       "20.0"
      ]
     },
     "execution_count": 60,
     "metadata": {},
     "output_type": "execute_result"
    }
   ],
   "source": [
    "#calculating accuracy\n",
    "out_of_sample_acc = accuracy_score(y_test,y_pred, normalize = True) * 100 \n",
    "out_of_sample_acc"
   ]
  },
  {
   "cell_type": "markdown",
   "metadata": {
    "id": "3o5bAwuwEYr0"
   },
   "source": [
    "We got 20 percent accuracy on the custom inputs. It is low because the images were not perfect i.e, not ideal when rescaled to 28*28, they lose information and get really pixelated. so ideally images with white background ones that can preserve features even when pixelated can give us better predictions"
   ]
  },
  {
   "cell_type": "markdown",
   "metadata": {
    "id": "onZxzFsiq4i1"
   },
   "source": [
    "The coding was performed in google colab as the tensorflow has been established in the server of google colab and intstalling was challenging for the Macbook with M1-chip."
   ]
  },
  {
   "cell_type": "code",
   "execution_count": null,
   "metadata": {
    "id": "FpWL0AFpE8wM"
   },
   "outputs": [],
   "source": []
  }
 ],
 "metadata": {
  "colab": {
   "name": "Individual project - Spring 20221001957965.ipynb",
   "provenance": []
  },
  "kernelspec": {
   "display_name": "Python 3 (ipykernel)",
   "language": "python",
   "name": "python3"
  },
  "language_info": {
   "codemirror_mode": {
    "name": "ipython",
    "version": 3
   },
   "file_extension": ".py",
   "mimetype": "text/x-python",
   "name": "python",
   "nbconvert_exporter": "python",
   "pygments_lexer": "ipython3",
   "version": "3.9.7"
  }
 },
 "nbformat": 4,
 "nbformat_minor": 1
}
